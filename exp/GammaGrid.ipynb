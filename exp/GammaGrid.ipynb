{
 "cells": [
  {
   "cell_type": "markdown",
   "metadata": {
    "id": "uA1W6-OPRGvb"
   },
   "source": [
    "# Gamma Grid\n",
    "\n",
    "In this notebook I will calculate a PsychoPy \"gammaGrid\" from a set of measurements. This is a 4 x 6 matrix, with white (or 'lum') on the first row, and R, G and B guns on the 2nd, 3rd and 4th row. The columns are: mininmum $cd/m^2$, maximum $cd/m^2$ and the $\\gamma$ (gamma) parameter in the first three columns. The last 3 columns can stay nan, but they have the $a$ and $b$ for the 0 and 1 type linearization equations used internally by [PsychoPy](https://psychopy.org/api/monitors.html). Type 2 linearization uses linear interpolation between measures, but I haven't discovered how to set measurements, and either way, it is better (faster? easier? more understandable) for a paper to report the $\\gamma$ and that it was corrected for. The last column has a $k$ parameter, which is used by some people, but apparently not by any of the linearization options available in PsychoPy. Maybe it's there for future functionality.\n",
    "\n",
    "By default the `gammaGrid` looks like this:\n"
   ]
  },
  {
   "cell_type": "code",
   "execution_count": 1,
   "metadata": {
    "id": "eKGvbLDuRDNX"
   },
   "outputs": [],
   "source": [
    "import numpy as np\n",
    "\n",
    "gammaGrid = np.array([[ 0.,  1.,  1., np.nan, np.nan, np.nan],\n",
    "                      [ 0.,  1.,  1., np.nan, np.nan, np.nan],\n",
    "                      [ 0.,  1.,  1., np.nan, np.nan, np.nan],\n",
    "                      [ 0.,  1.,  1., np.nan, np.nan, np.nan]], dtype=np.float32)\n"
   ]
  },
  {
   "cell_type": "markdown",
   "metadata": {
    "id": "NjZguTW42qYV"
   },
   "source": [
    "These values basically say to not change the way the monitor works, particularly the third column where $\\gamma$ is set to 1. \n",
    "\n",
    "# Calibration Measurements\n",
    "\n",
    "And we have some luminance measurements from a monitor in my current lab:"
   ]
  },
  {
   "cell_type": "code",
   "execution_count": 2,
   "metadata": {
    "id": "wCW_u9vw2v10"
   },
   "outputs": [],
   "source": [
    "mycal = np.array(  [[0, 0, 0, 0.09],\n",
    "                    [17, 17, 17, 1.05],\n",
    "                    [34, 34, 34, 3.58],\n",
    "                    [51, 51, 51, 9.16],\n",
    "                    [68, 68, 68, 15.3],\n",
    "                    [85, 85, 85, 21.5],\n",
    "                    [102, 102, 102, 28.1],\n",
    "                    [119, 119, 119, 34.1],\n",
    "                    [136, 136, 136, 45.5],\n",
    "                    [153, 153, 153, 56],\n",
    "                    [170, 170, 170, 66.9],\n",
    "                    [187, 187, 187, 78.9],\n",
    "                    [204, 204, 204, 92.1],\n",
    "                    [221, 221, 221, 106.5],\n",
    "                    [238, 238, 238, 122.3],\n",
    "                    [255, 255, 255, 136.7],\n",
    "                    [0, 0, 0, 0.12],\n",
    "                    [51, 0, 0, 1.47],\n",
    "                    [102, 0, 0, 4.51],\n",
    "                    [153, 0, 0, 9.58],\n",
    "                    [204, 0, 0, 15.8],\n",
    "                    [255, 0, 0, 25.2],\n",
    "                    [0, 0, 0, 0.12],\n",
    "                    [0, 51, 0, 6.55],\n",
    "                    [0, 102, 0, 19.7],\n",
    "                    [0, 153, 0, 39.5],\n",
    "                    [0, 204, 0, 66.5],\n",
    "                    [0, 255, 0, 98.6],\n",
    "                    [0, 0, 0, 0.13],\n",
    "                    [0, 0, 51, 0.39],\n",
    "                    [0, 0, 102, 1.2],\n",
    "                    [0, 0, 153, 2.42],\n",
    "                    [0, 0, 204, 4.26],\n",
    "                    [0, 0, 255, 7.51]], dtype=np.float32)"
   ]
  },
  {
   "cell_type": "markdown",
   "metadata": {
    "id": "9eY_3Iwp_3Eu"
   },
   "source": [
    "The first three columns have R, G and B values used as the \"stimulus\", and the last column has the measured luminance in cd/m^2 when that color was on the monitor.\n",
    "\n",
    "The first 16 rows should be predicted by the first row of the `gammaGrid`, as it has black-gray-white values. Then there are 6 rows each (only) for the red, green and blue lines in the `gammaGrid` as well.\n",
    "\n",
    "We will first add a column to the calibration marking each of the guns:\n"
   ]
  },
  {
   "cell_type": "code",
   "execution_count": 3,
   "metadata": {
    "id": "Y4TqXZVKAtnz"
   },
   "outputs": [],
   "source": [
    "guns = [0,0,0,0,0,0,0,0,0,0,0,0,0,0,0,0,1,1,1,1,1,1,2,2,2,2,2,2,3,3,3,3,3,3]\n",
    "mycal = np.c_[ mycal, guns ]"
   ]
  },
  {
   "cell_type": "code",
   "execution_count": 4,
   "metadata": {
    "colab": {
     "base_uri": "https://localhost:8080/"
    },
    "id": "tE9CEq1HCYOc",
    "outputId": "b1d60ff3-2947-4db5-a5b1-4fa24f033360"
   },
   "outputs": [
    {
     "data": {
      "text/plain": [
       "array([ 0,  1,  2,  3,  4,  5,  6,  7,  8,  9, 10, 11, 12, 13, 14, 15])"
      ]
     },
     "execution_count": 4,
     "metadata": {},
     "output_type": "execute_result"
    }
   ],
   "source": [
    "(mycal[:,4] == 0).nonzero()[0]"
   ]
  },
  {
   "cell_type": "markdown",
   "metadata": {
    "id": "Z25n3N1yBm9U"
   },
   "source": [
    "So basically the guns there correspond to the row-index into the `gammaGrid`:\n",
    "- 0 is white\n",
    "- 1 is red\n",
    "- 2 is green\n",
    "- 3 is blue\n",
    "\n",
    "This could be assigned automatically, but I did want to have the \"black\" measures in all of the guns, and it was faster to just do it manually.\n",
    "\n",
    "We should also plot this data, to see what it looks like, and we can now do that per gun:"
   ]
  },
  {
   "cell_type": "code",
   "execution_count": 5,
   "metadata": {
    "colab": {
     "base_uri": "https://localhost:8080/",
     "height": 374
    },
    "id": "gbhjGOYV_4IA",
    "outputId": "08eefa4c-f1ff-4a1e-88d2-2831c723417f"
   },
   "outputs": [
    {
     "data": {
      "image/png": "[encoded data removed]",
      "text/plain": [
       "<Figure size 576x432 with 1 Axes>"
      ]
     },
     "metadata": {
      "needs_background": "light"
     },
     "output_type": "display_data"
    }
   ],
   "source": [
    "import matplotlib.pyplot as plt\n",
    "\n",
    "plt.figure(figsize=[8,6])\n",
    "\n",
    "for gun in range(4):\n",
    "    idx = (mycal[:,4] == gun).nonzero()[0]\n",
    "    if gun == 0:\n",
    "        rgb = mycal[idx,0]\n",
    "    else:\n",
    "        rgb = mycal[idx,gun-1]\n",
    "    lum = mycal[idx,3]\n",
    "    col = ['#DDDDDD','#FF0000','#00FF00','#0000FF'][gun]\n",
    "    plt.plot(rgb, lum, color=col)"
   ]
  },
  {
   "cell_type": "markdown",
   "metadata": {
    "id": "db-6CjRX6TgB"
   },
   "source": [
    "# Model Fit\n",
    "\n",
    "We could estimate the $\\gamma$ parameters for each row of the `gammaGrid` separately, and this would be a decent start. However, the more data is used for estimating the parameters, the better the estimates are. So we could make use of the assumption that the luminance from red, green and blue guns separately, should add up to the luminance from when they are on together.\n",
    "\n",
    "We'll use `scipy.optimize.minimize` and fit the $\\gamma$, $a$ and $b$ parameters used in the linearization by PsychoPy. When those parameters predict all our measurements accurately as possible, the values are also the best to use for linearizing the monitor. These are the equations:\n",
    "\n",
    "type 0: $L=a+(bx)^\\gamma$\n",
    "\n",
    "type 1: $L=(a+bx)^\\gamma$ \n",
    "\n",
    "In type 0 linearization, $a$ should be equal to the minimum luminance we measured, but otherwise I'm not sure if it actually matters which version we use (we could test which one predicts the measurements better). Either way, the problem becomes one of minimizing the difference between the measured $L$ on the left-hand side of the equations, and the values predicted by the right-hand side of the equations.\n",
    "\n",
    "We can start with:\n",
    "- $a=0$\n",
    "- $b=1$\n",
    "- $\\gamma=2$\n",
    "\n",
    "As reasonable starting values. Alternatively, setting $b = (max(lum)-a)^{1/\\gamma}$ might be more accurate, and adapts to each gun's range of output luminances. Here I use a different estimate that seems to work better for my measurements: $b = (\\frac{max(L)}{max(RGB})^{\\gamma^2}$. Either way, the ranges for $a$ and $\\gamma$ should be relatively narrow ($a$: 0 to maybe 2; $\\gamma$: between 1 and 3), while $b$ could have many more values depending on the unit of the intensities and which gun it is for. "
   ]
  },
  {
   "cell_type": "code",
   "execution_count": 6,
   "metadata": {
    "id": "bSIRpZhaWCWd"
   },
   "outputs": [],
   "source": [
    "def lumModel(par, RGB, eqt=0):\n",
    "    a, b, g = par\n",
    "    \n",
    "    if eqt == 0:\n",
    "        return(a + (b*RGB)**g)\n",
    "    elif eqt == 1:\n",
    "        return((a + b*RGB)**g)"
   ]
  },
  {
   "cell_type": "markdown",
   "metadata": {
    "id": "ah5IXmmrcJtP"
   },
   "source": [
    "Let's see if this gives somewhat reasonble output:"
   ]
  },
  {
   "cell_type": "code",
   "execution_count": 7,
   "metadata": {
    "colab": {
     "base_uri": "https://localhost:8080/"
    },
    "id": "Qwm6brFxcPSe",
    "outputId": "02e8c0f2-dec2-4172-b597-5d36e0945499"
   },
   "outputs": [
    {
     "name": "stdout",
     "output_type": "stream",
     "text": [
      "[  0.           1.97117197   7.8846879   17.74054777  31.53875159\n",
      "  49.27929936  70.96219108  96.58742674 126.15500636 159.66492992\n",
      " 197.11719743 238.51180889 283.8487643  333.12806366 386.34970697\n",
      " 443.51369422]\n"
     ]
    }
   ],
   "source": [
    "idx = (mycal[:,4] == 0).nonzero()[0]\n",
    "RGB = mycal[idx,0]\n",
    "par = [0,(136.7/255)**4,2]\n",
    "print(lumModel(par, RGB))"
   ]
  },
  {
   "cell_type": "markdown",
   "metadata": {
    "id": "zYh8si84c98W"
   },
   "source": [
    "Seems OK-ish, but particularly for $b$ we will set the bounds to be very wide."
   ]
  },
  {
   "cell_type": "code",
   "execution_count": 8,
   "metadata": {
    "colab": {
     "base_uri": "https://localhost:8080/"
    },
    "id": "KWx5gQ7wdIAw",
    "outputId": "220018ca-c5e9-463a-d073-1874e422422b"
   },
   "outputs": [
    {
     "data": {
      "text/plain": [
       "9620.299015576053"
      ]
     },
     "execution_count": 8,
     "metadata": {},
     "output_type": "execute_result"
    }
   ],
   "source": [
    "def lumMSE(pars, mycal, eqt=0):\n",
    "    \n",
    "    errors = []\n",
    "    pars = np.reshape(pars, [4,3])\n",
    "\n",
    "    # first we check how well the parameters for each gun match the data:\n",
    "    for gun in range(4):\n",
    "        par = list(pars[gun,:])\n",
    "        idx = (mycal[:,4] == gun).nonzero()[0]\n",
    "        RGB = mycal[idx,max(0,gun-1)]\n",
    "\n",
    "        errors += list( mycal[idx,3] - lumModel(par, RGB, eqt) )\n",
    "    \n",
    "    return(np.mean( np.array(errors)**2 ))\n",
    "\n",
    "\n",
    "# here are some initial values for parameters, that should be close to optimal:\n",
    "pars = [0, (136.7/255)**4,  2,\n",
    "        0,  (25.2/255)**4,  2,\n",
    "        0,  (98.6/255)**4,  2,\n",
    "        0,   (7.51/255)**4, 2]\n",
    "\n",
    "lumMSE(pars, mycal)"
   ]
  },
  {
   "cell_type": "markdown",
   "metadata": {
    "id": "DTQFyuSohSrc"
   },
   "source": [
    "That's still a pretty large error, and that's why we need an optimization function:"
   ]
  },
  {
   "cell_type": "code",
   "execution_count": 9,
   "metadata": {
    "colab": {
     "base_uri": "https://localhost:8080/"
    },
    "id": "Es782FnEiC4b",
    "outputId": "8d706ac2-c7d8-41c9-9b34-6416d71b5ebf"
   },
   "outputs": [
    {
     "name": "stdout",
     "output_type": "stream",
     "text": [
      "      fun: 0.37413305827474685\n",
      " hess_inv: <12x12 LbfgsInvHessProduct with dtype=float64>\n",
      "      jac: array([ 0.00591502,  0.00384571,  0.0061473 , -0.00109627, -0.01904105,\n",
      "       -0.00077496, -0.0024543 , -0.01297123,  0.00072768,  0.00728024,\n",
      "        0.00150243, -0.0147913 ])\n",
      "  message: b'CONVERGENCE: REL_REDUCTION_OF_F_<=_FACTR*EPSMCH'\n",
      "     nfev: 4797\n",
      "      nit: 319\n",
      "   status: 0\n",
      "  success: True\n",
      "        x: array([0.5595004 , 0.06338837, 1.76633488, 0.28866466, 0.02015664,\n",
      "       1.95937098, 0.45249148, 0.0513495 , 1.78300809, 0.189979  ,\n",
      "       0.00945845, 2.2341126 ])\n"
     ]
    }
   ],
   "source": [
    "from scipy.optimize import minimize\n",
    "\n",
    "def lumFit(mycal):\n",
    "    \n",
    "    pars = []\n",
    "    for gun in range(4):\n",
    "        idx = (mycal[:,4] == gun).nonzero()[0]\n",
    "        col = max(0,gun-1)\n",
    "    pars = [0, (max(mycal[idx,3])/max(mycal[idx,col]))**4,  2,\n",
    "            0, (max(mycal[idx,3])/max(mycal[idx,col]))**4,  2,\n",
    "            0, (max(mycal[idx,3])/max(mycal[idx,col]))**4,  2,\n",
    "            0, (max(mycal[idx,3])/max(mycal[idx,col]))**4,  2]\n",
    "    \n",
    "    bestfit = minimize(lumMSE, \n",
    "                       pars, \n",
    "                       args=(mycal),\n",
    "                       bounds=[(0,2),(0.00001,10000),(1,3),\n",
    "                               (0,2),(0.00001,10000),(1,3),\n",
    "                               (0,2),(0.00001,10000),(1,3),\n",
    "                               (0,2),(0.00001,10000),(1,3)])\n",
    "\n",
    "    return(bestfit)\n",
    "\n",
    "fit = lumFit(mycal)\n",
    "print(fit)"
   ]
  },
  {
   "cell_type": "markdown",
   "metadata": {
    "id": "WIhjJz7RqGah"
   },
   "source": [
    "This should print a dictionary with information about the optimization. Several values are of interest there:\n",
    "- `fun`: the final value of the error function (should be low)\n",
    "- `nfev`: number of function evaluations\n",
    "- `nit`: number of iterations\n",
    "- `success`: hopefully that is True\n",
    "- `x`: the parameter value that resulted in the fit with the lowest error\n",
    "\n",
    "When I ran this last, `fun` was below 1, and the $\\gamma$ parameters were all reasonable (between 1.7 and 2.3), as were the $a$ parameters (below 1). It's hard to have an intuition for the $b$ parameters, but they seem to scale with the maximum luminance we expect for each of the guns (green is highest, then red, then blue, and the sum of those is close to the value for the \"white\" gun)."
   ]
  },
  {
   "cell_type": "code",
   "execution_count": 10,
   "metadata": {
    "colab": {
     "base_uri": "https://localhost:8080/"
    },
    "id": "MY-ynHuIY3Rg",
    "outputId": "6481a9a9-d524-4326-ce46-dd1d38fd225b"
   },
   "outputs": [
    {
     "name": "stdout",
     "output_type": "stream",
     "text": [
      "[[0.5595004  0.06338837 1.76633488]\n",
      " [0.28866466 0.02015664 1.95937098]\n",
      " [0.45249148 0.0513495  1.78300809]\n",
      " [0.189979   0.00945845 2.2341126 ]]\n"
     ]
    }
   ],
   "source": [
    "print(np.reshape(fit['x'], [4,3]))"
   ]
  },
  {
   "cell_type": "markdown",
   "metadata": {
    "id": "O6rEHGGSvjv4"
   },
   "source": [
    "## Added constraint: W = R+G+B\n",
    "\n",
    "This should work, but it is fitted separately to the 4 guns. I'll now make a fitting function that adds errors for the difference between the white prediction and the sum of the R, G and B predictions."
   ]
  },
  {
   "cell_type": "code",
   "execution_count": 11,
   "metadata": {
    "id": "J8In44N2YAsx"
   },
   "outputs": [],
   "source": [
    "def lumMSE(pars, mycal, eqt=0):\n",
    "    \n",
    "    errors = []\n",
    "    pars = np.reshape(pars, [4,3])\n",
    "\n",
    "    # first we check how well the parameters for each gun match the data:\n",
    "    for gun in range(4):\n",
    "        par = list(pars[gun,:])\n",
    "        idx = (mycal[:,4] == gun).nonzero()[0]\n",
    "        RGB = mycal[idx,max(0,gun-1)]\n",
    "\n",
    "        errors += list( mycal[idx,3] - lumModel(par, RGB, eqt) )\n",
    "    \n",
    "    # then we also check how well the predictions for individual guns\n",
    "    # add up to the \"white gun\" predictions\n",
    "    # this will determine 1/3 of the errors that need to be minimized\n",
    "    # so 2/3 of that is actually fitting the data\n",
    "\n",
    "    RGB = np.linspace(0, 255, np.int32(np.floor(mycal.shape[0]/2)) )\n",
    "    errors += list( lumModel(pars[0,:], RGB, eqt) - lumModel(pars[1,:], RGB, eqt) - lumModel(pars[2,:], RGB, eqt) - lumModel(pars[3,:], RGB, eqt) )\n",
    "    \n",
    "    return(np.mean( np.array(errors)**2 ))"
   ]
  },
  {
   "cell_type": "markdown",
   "metadata": {
    "id": "R0TURovMZ6EK"
   },
   "source": [
    "So this adds a few errors between predictions, based on the assumption of additivity of the guns. The final error is going to be a bit larger, because 1) there are more constraints, and 2) there are more errors. But the solution might be better, let's see what it is:"
   ]
  },
  {
   "cell_type": "code",
   "execution_count": 12,
   "metadata": {
    "colab": {
     "base_uri": "https://localhost:8080/"
    },
    "id": "IIjrPSwrad10",
    "outputId": "5039fa39-1db7-4ec4-bf9c-ff9514926bb4"
   },
   "outputs": [
    {
     "name": "stdout",
     "output_type": "stream",
     "text": [
      "      fun: 0.7184265774666075\n",
      " hess_inv: <12x12 LbfgsInvHessProduct with dtype=float64>\n",
      "      jac: array([-0.01128577,  0.12381498,  0.01259927, -0.02048719,  0.00789107,\n",
      "       -0.00079524, -0.02875353,  0.01117871, -0.00095491, -0.00311517,\n",
      "        0.01126917, -0.02102649])\n",
      "  message: b'CONVERGENCE: REL_REDUCTION_OF_F_<=_FACTR*EPSMCH'\n",
      "     nfev: 2509\n",
      "      nit: 163\n",
      "   status: 0\n",
      "  success: True\n",
      "        x: array([0.31319442, 0.0639942 , 1.75869716, 0.03050552, 0.02408399,\n",
      "       1.80429893, 0.05535816, 0.05505831, 1.7430569 , 0.1109068 ,\n",
      "       0.01348355, 1.74820219])\n",
      "[[0.31319442 0.0639942  1.75869716]\n",
      " [0.03050552 0.02408399 1.80429893]\n",
      " [0.05535816 0.05505831 1.7430569 ]\n",
      " [0.1109068  0.01348355 1.74820219]]\n"
     ]
    }
   ],
   "source": [
    "fit = lumFit(mycal)\n",
    "print(fit)\n",
    "print(np.reshape(fit['x'], [4,3]))"
   ]
  },
  {
   "cell_type": "markdown",
   "metadata": {
    "id": "3yQR580ba02e"
   },
   "source": [
    "The $\\gamma$ values are now much more similar to eachother, as they should be in the same hardware. The error is indeed larger, but it's still pretty good. I'm going to use this solution.\n",
    "\n",
    "While I think my measurements are decent, there inevitably is some noise in them, such that the model that I just fitted is probably more accurate. Since the `gammaGrid` also requires the minimum and maximum luminance, and particularly the minimum seemed to be a bit noisier, I'll use the fitted model to see what those values should be:"
   ]
  },
  {
   "cell_type": "code",
   "execution_count": 13,
   "metadata": {
    "colab": {
     "base_uri": "https://localhost:8080/"
    },
    "id": "b0C-wPlNnArl",
    "outputId": "0c216e19-55ef-43d4-ca38-e6d6960f4f72"
   },
   "outputs": [
    {
     "name": "stdout",
     "output_type": "stream",
     "text": [
      "[  0.31319442 136.06271052]\n",
      "[ 0.03050552 26.47116062]\n",
      "[5.53581585e-02 1.00036733e+02]\n",
      "[0.1109068  8.77330798]\n"
     ]
    }
   ],
   "source": [
    "for gun in range(4):\n",
    "    par = np.reshape(fit['x'], [4,3])[gun,:]\n",
    "    lum = lumModel(par, np.array([0, 255]))\n",
    "    print(lum)"
   ]
  },
  {
   "cell_type": "markdown",
   "metadata": {
    "id": "Fiabf7ZvoF4l"
   },
   "source": [
    "And here we see the issue with fitting the guns separately: the minimum values are all different (they're also the hardest to measure). The maximum values are relatively OK. But I wonder if it would be better to fit this with a single $\\gamma$ value and a single minimum luminance ($a$ when equation type = 0) and 3 $b$ values, such that the values for the combined gun activity have to equal the sum of the predicted separate gun values, and are not fitted separately. \n",
    "\n",
    "The problem would be that the values for the $b$ and $\\gamma$ parameters for the \"white\" or \"lum\" gun in the `gammaGrid` would have to be determined later.\n",
    "\n",
    "# Second model\n",
    "\n",
    "So let's build a model that fits a single $\\gamma$ and $a$ and four values of $b$: fewer parameters, more constraints, better fits? This can only work for equation type 0, so that's what we'll do. The RGB input then needs to have R, G and B values, not just one. The fitting fuctions will have be different though"
   ]
  },
  {
   "cell_type": "code",
   "execution_count": 14,
   "metadata": {
    "id": "xpcrApH6rsob"
   },
   "outputs": [],
   "source": [
    "def LmodelRGB(pars, cal):\n",
    "\n",
    "    g, a, b0, b1, b2, b3 = pars\n",
    "\n",
    "    # should be possible to do in 1 line with matrix multiplication:\n",
    "    R = (b1 * cal[:,0])**g\n",
    "    G = (b2 * cal[:,1])**g\n",
    "    B = (b3 * cal[:,2])**g\n",
    "    L = a + R + G + B\n",
    "\n",
    "    return(L)\n",
    "\n",
    "def LmodelW(pars, cal):\n",
    "\n",
    "    g, a, b0, b1, b2, b3 = pars\n",
    "    \n",
    "    idx = (cal[:,4] == 0).nonzero()[0]\n",
    "    RGB = cal[idx,0]\n",
    "    \n",
    "    L = a + (b0*RGB)**g\n",
    "\n",
    "    return(L)\n"
   ]
  },
  {
   "cell_type": "markdown",
   "metadata": {
    "id": "pqkcSQRQwWyB"
   },
   "source": [
    "Let's see if these functions return more or less OK luminance values:"
   ]
  },
  {
   "cell_type": "code",
   "execution_count": 15,
   "metadata": {
    "colab": {
     "base_uri": "https://localhost:8080/"
    },
    "id": "eeqJF7qJwXD0",
    "outputId": "e5e2efd9-3966-4ef1-f8ba-e5a0957abb3f"
   },
   "outputs": [
    {
     "name": "stdout",
     "output_type": "stream",
     "text": [
      "[1.00000000e-01 1.26030545e+00 4.14041827e+00 8.48282871e+00\n",
      " 1.41695536e+01 2.11241449e+01 2.92907050e+01 3.86255463e+01\n",
      " 4.90930312e+01 6.06632051e+01 7.33103248e+01 8.70118845e+01\n",
      " 1.01747939e+02 1.17500614e+02 1.34253744e+02 1.51992594e+02\n",
      " 1.00000000e-01 1.54962942e+00 5.14790282e+00 1.05731000e+01\n",
      " 1.76778186e+01 2.63665480e+01 1.00000000e-01 6.52242727e+00\n",
      " 2.24641907e+01 4.64999437e+01 7.79766353e+01 1.16471117e+02\n",
      " 1.00000000e-01 6.10772022e-01 1.87861149e+00 3.79016137e+00\n",
      " 6.29348492e+00 9.35492936e+00]\n",
      "[1.00000000e-01 1.26067226e+00 4.14169554e+00 8.48547873e+00\n",
      " 1.41740013e+01 2.11307912e+01 2.92999329e+01 3.86377252e+01\n",
      " 4.91085191e+01 6.06823506e+01 7.33334684e+01 8.70393595e+01\n",
      " 1.01780072e+02 1.17537727e+02 1.34296153e+02 1.52040611e+02]\n"
     ]
    }
   ],
   "source": [
    "pars = [1.8, 0.10, 0.0639, 0.0241, 0.0551, 0.0135]\n",
    "\n",
    "print(LmodelRGB(pars, mycal))\n",
    "print(LmodelW(pars, mycal))"
   ]
  },
  {
   "cell_type": "markdown",
   "metadata": {
    "id": "qsqqYYRw1qZs"
   },
   "source": [
    "Now we need a new error function too, this one does not check additivity:"
   ]
  },
  {
   "cell_type": "code",
   "execution_count": 16,
   "metadata": {
    "id": "ZUnIcj9g1vPu"
   },
   "outputs": [],
   "source": [
    "def Lerror(pars, mycal):\n",
    "\n",
    "    idx = (mycal[:,4] == 0).nonzero()[0]\n",
    "    errorsW = mycal[idx,3] - LmodelW(pars, mycal)\n",
    "    \n",
    "    errorsRGB = mycal[:,3] - LmodelRGB(pars, mycal)\n",
    "\n",
    "    return(np.mean( np.array(list(errorsW)+list(errorsRGB))**2))"
   ]
  },
  {
   "cell_type": "markdown",
   "metadata": {
    "id": "Ogux9gWI3t6t"
   },
   "source": [
    "And also check if this gives reasonable errors:"
   ]
  },
  {
   "cell_type": "code",
   "execution_count": 17,
   "metadata": {
    "colab": {
     "base_uri": "https://localhost:8080/"
    },
    "id": "QRgX72In3xwP",
    "outputId": "a655537c-192d-4eab-911b-f9d2d048a3a8"
   },
   "outputs": [
    {
     "data": {
      "text/plain": [
       "40.84185214608976"
      ]
     },
     "execution_count": 17,
     "metadata": {},
     "output_type": "execute_result"
    }
   ],
   "source": [
    "Lerror(pars, mycal)"
   ]
  },
  {
   "cell_type": "markdown",
   "metadata": {
    "id": "2ES-9KUK33XG"
   },
   "source": [
    "Decent, but let's now write an optimization function to bring this down further:"
   ]
  },
  {
   "cell_type": "code",
   "execution_count": 18,
   "metadata": {
    "colab": {
     "base_uri": "https://localhost:8080/"
    },
    "id": "IH0NvBhN4ll9",
    "outputId": "2edfb04c-e963-4fc5-db00-9fe2c5c2041a"
   },
   "outputs": [
    {
     "name": "stdout",
     "output_type": "stream",
     "text": [
      "      fun: 1.05164376659313\n",
      " hess_inv: <6x6 LbfgsInvHessProduct with dtype=float64>\n",
      "      jac: array([ 4.48818760e-04,  2.83728840e-01,  2.73983058e-03,  6.69406752e-03,\n",
      "       -5.26689803e-05,  2.55828692e-03])\n",
      "  message: b'CONVERGENCE: REL_REDUCTION_OF_F_<=_FACTR*EPSMCH'\n",
      "     nfev: 343\n",
      "      nit: 45\n",
      "   status: 0\n",
      "  success: True\n",
      "        x: array([1.74739897, 0.        , 0.0654317 , 0.02557761, 0.05480744,\n",
      "       0.01381505])\n"
     ]
    }
   ],
   "source": [
    "def Lfit(mycal):\n",
    "\n",
    "    pars = [1.8, 0.10, 0.0639, 0.0241, 0.0551, 0.0135]\n",
    "\n",
    "    fit = minimize(Lerror, \n",
    "                   pars, \n",
    "                   args=(mycal),\n",
    "                   bounds=[(1,3),(0,1),(0.00001,10000),(0.00001,10000),(0.00001,10000),(0.00001,10000)])\n",
    "    \n",
    "    return(fit)\n",
    "\n",
    "fit = Lfit(mycal)\n",
    "print(fit)"
   ]
  },
  {
   "cell_type": "markdown",
   "metadata": {
    "id": "YaSR0wka51Sa"
   },
   "source": [
    "Interesting! The $\\gamma$ parameter looks like the median of the previous fits, the values for $b$ are very similar to the previous ones, but $a$ is set to 0 now.\n",
    "\n",
    "## Added constraint: W = R+G+B\n",
    "\n",
    "We're going to include the additivity of guns in the error function now:"
   ]
  },
  {
   "cell_type": "code",
   "execution_count": 19,
   "metadata": {
    "colab": {
     "base_uri": "https://localhost:8080/"
    },
    "id": "BIf0tT1N_EIl",
    "outputId": "95d1a6f0-db21-44e0-c254-b12cf2c9041c"
   },
   "outputs": [
    {
     "name": "stdout",
     "output_type": "stream",
     "text": [
      "      fun: 0.8127989217006379\n",
      " hess_inv: <6x6 LbfgsInvHessProduct with dtype=float64>\n",
      "      jac: array([ 0.00026577,  0.22817755,  0.00748845, -0.00484531, -0.00414934,\n",
      "       -0.00213846])\n",
      "  message: b'CONVERGENCE: REL_REDUCTION_OF_F_<=_FACTR*EPSMCH'\n",
      "     nfev: 364\n",
      "      nit: 47\n",
      "   status: 0\n",
      "  success: True\n",
      "        x: array([1.74726666, 0.        , 0.06535985, 0.0256306 , 0.05484593,\n",
      "       0.01389479])\n"
     ]
    }
   ],
   "source": [
    "def Lerror(pars, mycal):\n",
    "\n",
    "    idx = (mycal[:,4] == 0).nonzero()[0]\n",
    "    errorsW = mycal[idx,3] - LmodelW(pars, mycal)\n",
    "    \n",
    "    errorsRGB = mycal[:,3] - LmodelRGB(pars, mycal)\n",
    "\n",
    "    W_RGBerrors = LmodelW(pars, mycal[idx,:]) - LmodelRGB(pars, mycal[idx,:])\n",
    "\n",
    "    return(np.mean( np.array(list(errorsW)+list(errorsRGB)+list(W_RGBerrors))**2))\n",
    "\n",
    "fit = Lfit(mycal)\n",
    "print(fit)"
   ]
  },
  {
   "cell_type": "markdown",
   "metadata": {
    "id": "R7dFq8Wm_6Kt"
   },
   "source": [
    "Doesn't make much of a difference... good measurements?"
   ]
  },
  {
   "cell_type": "markdown",
   "metadata": {
    "id": "P5vcnHFz_Ons"
   },
   "source": [
    "Let's see what this fit says for the minimum and maximum luminance values:"
   ]
  },
  {
   "cell_type": "code",
   "execution_count": 20,
   "metadata": {
    "colab": {
     "base_uri": "https://localhost:8080/"
    },
    "id": "yxvh5qPz6UTB",
    "outputId": "3682d425-0fdc-4202-86ff-73ef4a1f94c7"
   },
   "outputs": [
    {
     "name": "stdout",
     "output_type": "stream",
     "text": [
      "[  0.         136.42685243]\n",
      "[  0.          26.57937128 100.41914265   9.11873091]\n"
     ]
    }
   ],
   "source": [
    "pars = fit['x']\n",
    "\n",
    "calW = np.array([[0,0,0,0,0],[255,255,255,0,0]])\n",
    "Wminmax = LmodelW(pars, calW)\n",
    "print(Wminmax)\n",
    "\n",
    "calRGB = np.array([[0,0,0,0,0],[255,0,0,0,0],[0,255,0,0,0],[0,0,255,0,0]])\n",
    "RGBminmax = LmodelRGB(pars, calRGB)\n",
    "print(RGBminmax)"
   ]
  },
  {
   "cell_type": "markdown",
   "metadata": {
    "id": "d7Bo_N-u85y1"
   },
   "source": [
    "These values are very similar to the previous ones, except for the zero minimum. The zero minimum suggests that the non-zero measurements in the data might be measurement errors, but who knows."
   ]
  },
  {
   "cell_type": "markdown",
   "metadata": {
    "id": "CglH72_RAPtR"
   },
   "source": [
    "Now for the gammaGrid:"
   ]
  },
  {
   "cell_type": "code",
   "execution_count": 21,
   "metadata": {
    "colab": {
     "base_uri": "https://localhost:8080/"
    },
    "id": "rDJauuQVALj3",
    "outputId": "6c451106-1b44-425c-de0e-884deed9eb0b"
   },
   "outputs": [
    {
     "data": {
      "text/plain": [
       "array([[ 0.,  1.,  1., nan, nan, nan],\n",
       "       [ 0.,  1.,  1., nan, nan, nan],\n",
       "       [ 0.,  1.,  1., nan, nan, nan],\n",
       "       [ 0.,  1.,  1., nan, nan, nan]], dtype=float32)"
      ]
     },
     "execution_count": 21,
     "metadata": {},
     "output_type": "execute_result"
    }
   ],
   "source": [
    "gammaGrid"
   ]
  },
  {
   "cell_type": "markdown",
   "metadata": {
    "id": "vs8jrNJlAXeW"
   },
   "source": [
    "Those are still the default values, so we're going to fill in the values we got from the fit:"
   ]
  },
  {
   "cell_type": "code",
   "execution_count": 22,
   "metadata": {
    "colab": {
     "base_uri": "https://localhost:8080/"
    },
    "id": "4gXt4jZPAawy",
    "outputId": "01e19bc3-9a98-4157-cb35-79433a3db581"
   },
   "outputs": [
    {
     "data": {
      "text/plain": [
       "array([[  0.       , 136.42685  ,   1.7472667,         nan,         nan,\n",
       "                nan],\n",
       "       [  0.       ,  26.57937  ,   1.7472667,         nan,         nan,\n",
       "                nan],\n",
       "       [  0.       , 100.41914  ,   1.7472667,         nan,         nan,\n",
       "                nan],\n",
       "       [  0.       ,   9.118731 ,   1.7472667,         nan,         nan,\n",
       "                nan]], dtype=float32)"
      ]
     },
     "execution_count": 22,
     "metadata": {},
     "output_type": "execute_result"
    }
   ],
   "source": [
    "gammaGrid[0,1] = Wminmax[1]\n",
    "gammaGrid[1:,1] = RGBminmax[1:]\n",
    "gammaGrid[:,2] = fit['x'][0]\n",
    "gammaGrid"
   ]
  },
  {
   "cell_type": "markdown",
   "metadata": {
    "id": "5t_kHz7aCXAC"
   },
   "source": [
    "Now when we have a monitor object, we can use the `.setGammaGrid()` method with the above `gammaGrid` as input. If we then create a window object for this monitor, we can linearize the colors for some awesome psychophysics experiments."
   ]
  },
  {
   "cell_type": "markdown",
   "metadata": {
    "id": "xvzjpCQc9LsB"
   },
   "source": [
    "# Sources\n",
    "\n",
    "Here are some helpful pages I found in my quest to solve this:\n",
    "\n",
    "Ingo Fruend's former lab at York University: https://fruendlab.github.io/understanding-gamma-calibration.html This has Python code for a much more straightforward solution to the problem, but it only works for a single gun.\n",
    "\n",
    "Also for only a single gun, is this page by VPixx's Sophie Kenny: https://vpixx.com/vocal/gammacorrect/ It is meant for Matlab / Psychtoolbox and has an R Shiny app to help you out."
   ]
  }
 ],
 "metadata": {
  "colab": {
   "collapsed_sections": [],
   "name": "GammaGrid.ipynb",
   "provenance": []
  },
  "kernelspec": {
   "display_name": "Python 3",
   "language": "python",
   "name": "python3"
  },
  "language_info": {
   "codemirror_mode": {
    "name": "ipython",
    "version": 3
   },
   "file_extension": ".py",
   "mimetype": "text/x-python",
   "name": "python",
   "nbconvert_exporter": "python",
   "pygments_lexer": "ipython3",
   "version": "3.8.10"
  }
 },
 "nbformat": 4,
 "nbformat_minor": 1
}
